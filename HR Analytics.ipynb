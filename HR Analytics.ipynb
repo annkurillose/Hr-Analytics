{
 "cells": [
  {
   "cell_type": "markdown",
   "metadata": {},
   "source": [
    "### Problem Statement"
   ]
  },
  {
   "cell_type": "markdown",
   "metadata": {},
   "source": [
    "The client is facing a problem in identifying the right people for promotion (only for manager position and below) and prepare them in time.The company needs help in identifying the eligible candidates at a particular checkpoint so that they can expedite the entire promotion cycle. \n",
    "\n",
    "They have provided multiple attributes around Employee's past and current performance along with demographics. Now, The task is to predict whether a potential promotee at checkpoint in the test set will be promoted or not after the evaluation process.\n",
    "\n",
    "#### Dataset Description\n",
    "\n",
    "1. employee_id:\tUnique ID for employee\n",
    "2. department:\tDepartment of employee\n",
    "3. region:\tRegion of employment (unordered)\n",
    "4. education:\tEducation Level\n",
    "5. Gender:\tGender of Employee\n",
    "6. recruitment_channel:\tChannel of recruitment for employee\n",
    "7. no_of_trainings:\tno of other trainings completed in previous year on soft skills, technical skills etc.\n",
    "8. age:\tAge of Employee\n",
    "9. previous_year_rating: Employee Rating for the previous year\n",
    "10. length_of_service:\tLength of service in years\n",
    "11. KPIs_met>80%: if Percent of KPIs(Key performance Indicators) >80% then 1 else 0\n",
    "12. awards_won?: if awards won during previous year then 1 else 0\n",
    "13. avg_training_score:\tAverage score in current training evaluations\n",
    "14. is_promoted: (Target) Recommended for promotion\n",
    "\n",
    "### Import Libraries"
   ]
  },
  {
   "cell_type": "code",
   "execution_count": 58,
   "metadata": {},
   "outputs": [],
   "source": [
    "# data analysis and wrangling\n",
    "import pandas as pd\n",
    "import numpy as np\n",
    "import random as rnd\n",
    "\n",
    "# visualization\n",
    "import seaborn as sns\n",
    "import matplotlib.pyplot as plt\n",
    "%matplotlib inline"
   ]
  },
  {
   "cell_type": "markdown",
   "metadata": {},
   "source": [
    "### Read dataset"
   ]
  },
  {
   "cell_type": "code",
   "execution_count": 59,
   "metadata": {},
   "outputs": [],
   "source": [
    "train = pd.read_csv('train.csv')\n",
    "test = pd.read_csv('test.csv')"
   ]
  },
  {
   "cell_type": "code",
   "execution_count": 60,
   "metadata": {},
   "outputs": [],
   "source": [
    "# lets combine the data for data prep\n",
    "\n",
    "test['is_promoted']=np.nan\n",
    "train['data']='train'\n",
    "test['data']='test'\n",
    "\n",
    "df= pd.concat([train,test], sort = False , ignore_index= True)"
   ]
  },
  {
   "cell_type": "code",
   "execution_count": 61,
   "metadata": {
    "scrolled": false
   },
   "outputs": [
    {
     "data": {
      "text/html": [
       "<div>\n",
       "<style scoped>\n",
       "    .dataframe tbody tr th:only-of-type {\n",
       "        vertical-align: middle;\n",
       "    }\n",
       "\n",
       "    .dataframe tbody tr th {\n",
       "        vertical-align: top;\n",
       "    }\n",
       "\n",
       "    .dataframe thead th {\n",
       "        text-align: right;\n",
       "    }\n",
       "</style>\n",
       "<table border=\"1\" class=\"dataframe\">\n",
       "  <thead>\n",
       "    <tr style=\"text-align: right;\">\n",
       "      <th></th>\n",
       "      <th>employee_id</th>\n",
       "      <th>department</th>\n",
       "      <th>region</th>\n",
       "      <th>education</th>\n",
       "      <th>gender</th>\n",
       "      <th>recruitment_channel</th>\n",
       "      <th>no_of_trainings</th>\n",
       "      <th>age</th>\n",
       "      <th>previous_year_rating</th>\n",
       "      <th>length_of_service</th>\n",
       "      <th>KPIs_met &gt;80%</th>\n",
       "      <th>awards_won?</th>\n",
       "      <th>avg_training_score</th>\n",
       "      <th>is_promoted</th>\n",
       "      <th>data</th>\n",
       "    </tr>\n",
       "  </thead>\n",
       "  <tbody>\n",
       "    <tr>\n",
       "      <td>0</td>\n",
       "      <td>65438</td>\n",
       "      <td>Sales &amp; Marketing</td>\n",
       "      <td>region_7</td>\n",
       "      <td>Master's &amp; above</td>\n",
       "      <td>f</td>\n",
       "      <td>sourcing</td>\n",
       "      <td>1</td>\n",
       "      <td>35</td>\n",
       "      <td>5.0</td>\n",
       "      <td>8</td>\n",
       "      <td>1</td>\n",
       "      <td>0</td>\n",
       "      <td>49</td>\n",
       "      <td>0.0</td>\n",
       "      <td>train</td>\n",
       "    </tr>\n",
       "    <tr>\n",
       "      <td>1</td>\n",
       "      <td>65141</td>\n",
       "      <td>Operations</td>\n",
       "      <td>region_22</td>\n",
       "      <td>Bachelor's</td>\n",
       "      <td>m</td>\n",
       "      <td>other</td>\n",
       "      <td>1</td>\n",
       "      <td>30</td>\n",
       "      <td>5.0</td>\n",
       "      <td>4</td>\n",
       "      <td>0</td>\n",
       "      <td>0</td>\n",
       "      <td>60</td>\n",
       "      <td>0.0</td>\n",
       "      <td>train</td>\n",
       "    </tr>\n",
       "    <tr>\n",
       "      <td>2</td>\n",
       "      <td>7513</td>\n",
       "      <td>Sales &amp; Marketing</td>\n",
       "      <td>region_19</td>\n",
       "      <td>Bachelor's</td>\n",
       "      <td>m</td>\n",
       "      <td>sourcing</td>\n",
       "      <td>1</td>\n",
       "      <td>34</td>\n",
       "      <td>3.0</td>\n",
       "      <td>7</td>\n",
       "      <td>0</td>\n",
       "      <td>0</td>\n",
       "      <td>50</td>\n",
       "      <td>0.0</td>\n",
       "      <td>train</td>\n",
       "    </tr>\n",
       "    <tr>\n",
       "      <td>3</td>\n",
       "      <td>2542</td>\n",
       "      <td>Sales &amp; Marketing</td>\n",
       "      <td>region_23</td>\n",
       "      <td>Bachelor's</td>\n",
       "      <td>m</td>\n",
       "      <td>other</td>\n",
       "      <td>2</td>\n",
       "      <td>39</td>\n",
       "      <td>1.0</td>\n",
       "      <td>10</td>\n",
       "      <td>0</td>\n",
       "      <td>0</td>\n",
       "      <td>50</td>\n",
       "      <td>0.0</td>\n",
       "      <td>train</td>\n",
       "    </tr>\n",
       "    <tr>\n",
       "      <td>4</td>\n",
       "      <td>48945</td>\n",
       "      <td>Technology</td>\n",
       "      <td>region_26</td>\n",
       "      <td>Bachelor's</td>\n",
       "      <td>m</td>\n",
       "      <td>other</td>\n",
       "      <td>1</td>\n",
       "      <td>45</td>\n",
       "      <td>3.0</td>\n",
       "      <td>2</td>\n",
       "      <td>0</td>\n",
       "      <td>0</td>\n",
       "      <td>73</td>\n",
       "      <td>0.0</td>\n",
       "      <td>train</td>\n",
       "    </tr>\n",
       "  </tbody>\n",
       "</table>\n",
       "</div>"
      ],
      "text/plain": [
       "   employee_id         department     region         education gender  \\\n",
       "0        65438  Sales & Marketing   region_7  Master's & above      f   \n",
       "1        65141         Operations  region_22        Bachelor's      m   \n",
       "2         7513  Sales & Marketing  region_19        Bachelor's      m   \n",
       "3         2542  Sales & Marketing  region_23        Bachelor's      m   \n",
       "4        48945         Technology  region_26        Bachelor's      m   \n",
       "\n",
       "  recruitment_channel  no_of_trainings  age  previous_year_rating  \\\n",
       "0            sourcing                1   35                   5.0   \n",
       "1               other                1   30                   5.0   \n",
       "2            sourcing                1   34                   3.0   \n",
       "3               other                2   39                   1.0   \n",
       "4               other                1   45                   3.0   \n",
       "\n",
       "   length_of_service  KPIs_met >80%  awards_won?  avg_training_score  \\\n",
       "0                  8              1            0                  49   \n",
       "1                  4              0            0                  60   \n",
       "2                  7              0            0                  50   \n",
       "3                 10              0            0                  50   \n",
       "4                  2              0            0                  73   \n",
       "\n",
       "   is_promoted   data  \n",
       "0          0.0  train  \n",
       "1          0.0  train  \n",
       "2          0.0  train  \n",
       "3          0.0  train  \n",
       "4          0.0  train  "
      ]
     },
     "execution_count": 61,
     "metadata": {},
     "output_type": "execute_result"
    }
   ],
   "source": [
    "df.head()"
   ]
  },
  {
   "cell_type": "code",
   "execution_count": 62,
   "metadata": {},
   "outputs": [
    {
     "data": {
      "text/plain": [
       "(78298, 15)"
      ]
     },
     "execution_count": 62,
     "metadata": {},
     "output_type": "execute_result"
    }
   ],
   "source": [
    "df.shape"
   ]
  },
  {
   "cell_type": "code",
   "execution_count": 116,
   "metadata": {},
   "outputs": [
    {
     "data": {
      "image/png": "[encoded data removed]",
      "text/plain": [
       "<Figure size 1080x504 with 4 Axes>"
      ]
     },
     "metadata": {
      "needs_background": "light"
     },
     "output_type": "display_data"
    }
   ],
   "source": [
    "fig, ax= plt.subplots(2,2,figsize=(15,7))\n",
    "ax=ax.flatten()\n",
    "sns.countplot(df['education'],hue=df['is_promoted'],palette=\"nipy_spectral\",ax=ax[0])\n",
    "sns.countplot(df['gender'],hue=df['is_promoted'],palette=\"nipy_spectral\",ax=ax[1])\n",
    "sns.countplot(df['recruitment_channel'],hue=df['is_promoted'],palette=\"nipy_spectral\",ax=ax[2])\n",
    "sns.countplot(df['department'],hue=df['is_promoted'],palette=\"nipy_spectral\",ax=ax[3])\n",
    "\n",
    "plt.show()"
   ]
  },
  {
   "cell_type": "markdown",
   "metadata": {},
   "source": [
    "The above graph clearly shows that people with bachelor's degree get promotion more than any other educational background. Male are also prefered when a promotion is considered.\n",
    "People working in the sales and marketing have higer chances of getting promoted. "
   ]
  },
  {
   "cell_type": "code",
   "execution_count": 104,
   "metadata": {},
   "outputs": [
    {
     "data": {
      "image/png": "[encoded data removed]",
      "text/plain": [
       "<Figure size 1080x504 with 1 Axes>"
      ]
     },
     "metadata": {
      "needs_background": "light"
     },
     "output_type": "display_data"
    }
   ],
   "source": [
    "plt.figure(figsize=(15,7))\n",
    "sns.countplot(df['region'],hue=df['is_promoted'],palette=\"plasma\")\n",
    "plt.xticks(rotation=90)\n",
    "plt.show()"
   ]
  },
  {
   "cell_type": "code",
   "execution_count": 6,
   "metadata": {},
   "outputs": [
    {
     "name": "stdout",
     "output_type": "stream",
     "text": [
      "employee_id\n",
      "\n",
      "2047     0.001277\n",
      "76464    0.001277\n",
      "25241    0.001277\n",
      "31386    0.001277\n",
      "29339    0.001277\n",
      "           ...   \n",
      "13676    0.001277\n",
      "15725    0.001277\n",
      "9582     0.001277\n",
      "11631    0.001277\n",
      "2049     0.001277\n",
      "Name: employee_id, Length: 78298, dtype: float64\n",
      "\n",
      "\n",
      "department\n",
      "\n",
      "Sales & Marketing    30.850086\n",
      "Operations           20.577793\n",
      "Procurement          12.973511\n",
      "Technology           12.962017\n",
      "Analytics             9.797185\n",
      "Finance               4.632302\n",
      "HR                    4.473933\n",
      "Legal                 1.895323\n",
      "R&D                   1.837850\n",
      "Name: department, dtype: float64\n",
      "\n",
      "\n",
      "region\n",
      "\n",
      "region_2     22.531865\n",
      "region_22    11.707834\n",
      "region_7      8.716698\n",
      "region_15     5.029503\n",
      "region_13     4.872411\n",
      "region_26     4.177629\n",
      "region_31     3.549261\n",
      "region_4      3.164832\n",
      "region_27     3.025620\n",
      "region_16     2.624588\n",
      "region_28     2.443230\n",
      "region_11     2.408746\n",
      "region_23     2.159698\n",
      "region_29     1.798258\n",
      "region_32     1.759943\n",
      "region_19     1.639889\n",
      "region_14     1.503231\n",
      "region_20     1.501954\n",
      "region_17     1.477688\n",
      "region_25     1.476411\n",
      "region_5      1.415106\n",
      "region_6      1.261846\n",
      "region_30     1.187770\n",
      "region_8      1.180107\n",
      "region_10     1.171167\n",
      "region_1      1.083042\n",
      "region_24     0.928504\n",
      "region_12     0.913178\n",
      "region_9      0.766303\n",
      "region_21     0.753531\n",
      "region_3      0.629646\n",
      "region_34     0.570896\n",
      "region_33     0.504483\n",
      "region_18     0.065136\n",
      "Name: region, dtype: float64\n",
      "\n",
      "\n",
      "education\n",
      "\n",
      "Bachelor's          69.797609\n",
      "Master's & above    28.627346\n",
      "Below Secondary      1.575045\n",
      "Name: education, dtype: float64\n",
      "\n",
      "\n",
      "gender\n",
      "\n",
      "m    70.36195\n",
      "f    29.63805\n",
      "Name: gender, dtype: float64\n",
      "\n",
      "\n",
      "recruitment_channel\n",
      "\n",
      "other       55.587627\n",
      "sourcing    42.377839\n",
      "referred     2.034535\n",
      "Name: recruitment_channel, dtype: float64\n",
      "\n",
      "\n",
      "no_of_trainings\n",
      "\n",
      "1     80.852640\n",
      "2     14.727068\n",
      "3      3.232522\n",
      "4      0.840379\n",
      "5      0.209456\n",
      "6      0.086848\n",
      "7      0.026821\n",
      "9      0.008940\n",
      "8      0.008940\n",
      "10     0.006386\n",
      "Name: no_of_trainings, dtype: float64\n",
      "\n",
      "\n",
      "age\n",
      "\n",
      "30    6.717924\n",
      "31    6.462489\n",
      "32    6.405017\n",
      "29    6.208332\n",
      "33    5.871159\n",
      "28    5.758768\n",
      "34    5.615725\n",
      "27    5.186595\n",
      "35    4.955427\n",
      "36    4.519911\n",
      "37    3.913254\n",
      "26    3.725510\n",
      "38    3.556924\n",
      "39    3.123962\n",
      "40    2.986028\n",
      "25    2.407469\n",
      "41    2.393420\n",
      "42    2.074127\n",
      "43    1.822524\n",
      "44    1.536438\n",
      "24    1.508340\n",
      "45    1.357634\n",
      "46    1.243965\n",
      "47    1.038341\n",
      "48    0.992363\n",
      "50    0.927227\n",
      "49    0.830162\n",
      "23    0.819944\n",
      "51    0.702445\n",
      "52    0.661575\n",
      "53    0.661575\n",
      "54    0.577282\n",
      "55    0.547907\n",
      "56    0.491711\n",
      "57    0.425298\n",
      "22    0.420190\n",
      "58    0.404863\n",
      "60    0.390815\n",
      "59    0.372934\n",
      "20    0.209456\n",
      "21    0.174973\n",
      "Name: age, dtype: float64\n",
      "\n",
      "\n",
      "previous_year_rating\n",
      "\n",
      "3.0    36.675327\n",
      "5.0    23.269119\n",
      "4.0    19.521296\n",
      "1.0    12.303419\n",
      "2.0     8.230839\n",
      "Name: previous_year_rating, dtype: float64\n",
      "\n",
      "\n",
      "length_of_service\n",
      "\n",
      "3     12.856012\n",
      "4     12.448594\n",
      "2     12.202100\n",
      "5     10.758896\n",
      "7     10.083272\n",
      "6      8.649008\n",
      "1      8.351427\n",
      "8      5.295154\n",
      "9      4.724259\n",
      "10     4.002657\n",
      "11     1.619454\n",
      "12     1.432987\n",
      "13     1.223531\n",
      "15     1.063884\n",
      "14     1.034509\n",
      "16     0.970651\n",
      "17     0.812281\n",
      "18     0.712662\n",
      "19     0.601548\n",
      "20     0.242663\n",
      "21     0.136657\n",
      "23     0.122608\n",
      "22     0.112391\n",
      "24     0.112391\n",
      "25     0.095788\n",
      "26     0.070244\n",
      "27     0.066413\n",
      "28     0.053641\n",
      "29     0.051087\n",
      "31     0.034484\n",
      "30     0.022989\n",
      "32     0.014049\n",
      "33     0.012772\n",
      "34     0.007663\n",
      "37     0.001277\n",
      "Name: length_of_service, dtype: float64\n",
      "\n",
      "\n",
      "KPIs_met >80%\n",
      "\n",
      "0    64.596797\n",
      "1    35.403203\n",
      "Name: KPIs_met >80%, dtype: float64\n",
      "\n",
      "\n",
      "awards_won?\n",
      "\n",
      "0    97.694705\n",
      "1     2.305295\n",
      "Name: awards_won?, dtype: float64\n",
      "\n",
      "\n",
      "avg_training_score\n",
      "\n",
      "50    5.035889\n",
      "49    4.885182\n",
      "48    4.496922\n",
      "51    4.304069\n",
      "60    3.887711\n",
      "        ...   \n",
      "98    0.065136\n",
      "99    0.061304\n",
      "41    0.047255\n",
      "40    0.010217\n",
      "39    0.003832\n",
      "Name: avg_training_score, Length: 61, dtype: float64\n",
      "\n",
      "\n",
      "is_promoted\n",
      "\n",
      "0.0    91.482995\n",
      "1.0     8.517005\n",
      "Name: is_promoted, dtype: float64\n",
      "\n",
      "\n",
      "data\n",
      "\n",
      "train    69.999234\n",
      "test     30.000766\n",
      "Name: data, dtype: float64\n",
      "\n",
      "\n"
     ]
    }
   ],
   "source": [
    "for i in df.columns:\n",
    "    print(i)\n",
    "    print()\n",
    "    print(df[i].value_counts(1)*100)\n",
    "    print()\n",
    "    print()"
   ]
  },
  {
   "cell_type": "code",
   "execution_count": 117,
   "metadata": {},
   "outputs": [],
   "source": [
    "# Since employee_id is unique we can drop that\n",
    "df=df.drop('employee_id',axis=1)"
   ]
  },
  {
   "cell_type": "code",
   "execution_count": 118,
   "metadata": {},
   "outputs": [],
   "source": [
    "# Since only 10% data is there in Finance, HR, Legal and R&D combined and they also follow a similar trend in getting promoted  we club them as others\n",
    "df['department']=df['department'].replace({'Finance':'Others','HR':'Others','Legal':'Others','R&D':'Others'})"
   ]
  },
  {
   "cell_type": "code",
   "execution_count": 124,
   "metadata": {},
   "outputs": [
    {
     "data": {
      "text/plain": [
       "Index(['department', 'region', 'education', 'gender', 'recruitment_channel',\n",
       "       'no_of_trainings', 'age', 'previous_year_rating', 'length_of_service',\n",
       "       'KPIs_met >80%', 'awards_won?', 'avg_training_score', 'is_promoted',\n",
       "       'data'],\n",
       "      dtype='object')"
      ]
     },
     "execution_count": 124,
     "metadata": {},
     "output_type": "execute_result"
    }
   ],
   "source": [
    "df.columns"
   ]
  },
  {
   "cell_type": "code",
   "execution_count": 126,
   "metadata": {},
   "outputs": [
    {
     "data": {
      "image/png": "[encoded data removed]",
      "text/plain": [
       "<Figure size 720x180 with 4 Axes>"
      ]
     },
     "metadata": {
      "needs_background": "light"
     },
     "output_type": "display_data"
    }
   ],
   "source": [
    "sns.pairplot(y_vars=['is_promoted'],x_vars=['no_of_trainings','age','previous_year_rating','length_of_service'],data=df)\n",
    "plt.show()"
   ]
  },
  {
   "cell_type": "code",
   "execution_count": 129,
   "metadata": {},
   "outputs": [],
   "source": [
    "# After 6 number of trainings getting a promotion is not getting affected so we can change number of training after 6 to 6.\n",
    "df['no_of_trainings']=df['no_of_trainings'].replace({7:6,8:6,9:6,10:6})"
   ]
  },
  {
   "cell_type": "code",
   "execution_count": 130,
   "metadata": {},
   "outputs": [],
   "source": [
    "# length_of_service 20 and above can be put into the same category\n",
    "df['length_of_service']=df['length_of_service'].replace({21:20,22:20,23:20,24:20,25:20,26:20,27:20,28:20,29:20,30:20,31:20,32:20,33:20,34:20,37:20})"
   ]
  },
  {
   "cell_type": "markdown",
   "metadata": {},
   "source": [
    "#### Missing values"
   ]
  },
  {
   "cell_type": "code",
   "execution_count": 131,
   "metadata": {},
   "outputs": [
    {
     "data": {
      "text/plain": [
       "department               0.000000\n",
       "region                   0.000000\n",
       "education                4.397303\n",
       "gender                   0.000000\n",
       "recruitment_channel      0.000000\n",
       "no_of_trainings          0.000000\n",
       "age                      0.000000\n",
       "previous_year_rating     7.581292\n",
       "length_of_service        0.000000\n",
       "KPIs_met >80%            0.000000\n",
       "awards_won?              0.000000\n",
       "avg_training_score       0.000000\n",
       "is_promoted             30.000766\n",
       "data                     0.000000\n",
       "dtype: float64"
      ]
     },
     "execution_count": 131,
     "metadata": {},
     "output_type": "execute_result"
    }
   ],
   "source": [
    "df.isna().sum()*100/df.shape[0]"
   ]
  },
  {
   "cell_type": "code",
   "execution_count": 132,
   "metadata": {},
   "outputs": [
    {
     "data": {
      "text/plain": [
       "Bachelor's          52247\n",
       "Master's & above    21429\n",
       "Below Secondary      1179\n",
       "Name: education, dtype: int64"
      ]
     },
     "execution_count": 132,
     "metadata": {},
     "output_type": "execute_result"
    }
   ],
   "source": [
    "df.education.value_counts()"
   ]
  },
  {
   "cell_type": "code",
   "execution_count": 133,
   "metadata": {},
   "outputs": [],
   "source": [
    "# Imputing missing values with random values in the same probability distribution as given feature already had\n",
    "\n",
    "vc = df.education.value_counts(normalize = True)\n",
    "miss = df.education.isna()\n",
    "df.loc[miss, 'education'] = np.random.choice(vc.index, size = miss.sum(), p = vc.values)"
   ]
  },
  {
   "cell_type": "code",
   "execution_count": 134,
   "metadata": {
    "scrolled": true
   },
   "outputs": [
    {
     "data": {
      "text/plain": [
       "Bachelor's          54649\n",
       "Master's & above    22421\n",
       "Below Secondary      1228\n",
       "Name: education, dtype: int64"
      ]
     },
     "execution_count": 134,
     "metadata": {},
     "output_type": "execute_result"
    }
   ],
   "source": [
    "df.education.value_counts()"
   ]
  },
  {
   "cell_type": "code",
   "execution_count": 135,
   "metadata": {},
   "outputs": [],
   "source": [
    "# Changing education to numerical such that higher degree have higher value\n",
    "df['education']=df['education'].replace({'Below Secondary':1,\"Bachelor's\":2,\"Master's & above\":3})"
   ]
  },
  {
   "cell_type": "code",
   "execution_count": 136,
   "metadata": {},
   "outputs": [
    {
     "data": {
      "text/plain": [
       "3.0    26539\n",
       "5.0    16838\n",
       "4.0    14126\n",
       "1.0     8903\n",
       "2.0     5956\n",
       "Name: previous_year_rating, dtype: int64"
      ]
     },
     "execution_count": 136,
     "metadata": {},
     "output_type": "execute_result"
    }
   ],
   "source": [
    "df.previous_year_rating.value_counts()"
   ]
  },
  {
   "cell_type": "code",
   "execution_count": 137,
   "metadata": {},
   "outputs": [],
   "source": [
    "#imputed missing values with random values in the same probability distribution as given feature already had\n",
    "vc = df.previous_year_rating.value_counts(normalize = True)\n",
    "miss = df.previous_year_rating.isna()\n",
    "df.loc[miss, 'previous_year_rating'] = np.random.choice(vc.index, size = miss.sum(), p = vc.values)"
   ]
  },
  {
   "cell_type": "code",
   "execution_count": 138,
   "metadata": {},
   "outputs": [
    {
     "data": {
      "text/plain": [
       "3.0    28707\n",
       "5.0    18226\n",
       "4.0    15249\n",
       "1.0     9660\n",
       "2.0     6456\n",
       "Name: previous_year_rating, dtype: int64"
      ]
     },
     "execution_count": 138,
     "metadata": {},
     "output_type": "execute_result"
    }
   ],
   "source": [
    "df.previous_year_rating.value_counts()"
   ]
  },
  {
   "cell_type": "code",
   "execution_count": 139,
   "metadata": {},
   "outputs": [
    {
     "data": {
      "text/plain": [
       "department                  0\n",
       "region                      0\n",
       "education                   0\n",
       "gender                      0\n",
       "recruitment_channel         0\n",
       "no_of_trainings             0\n",
       "age                         0\n",
       "previous_year_rating        0\n",
       "length_of_service           0\n",
       "KPIs_met >80%               0\n",
       "awards_won?                 0\n",
       "avg_training_score          0\n",
       "is_promoted             23490\n",
       "data                        0\n",
       "dtype: int64"
      ]
     },
     "execution_count": 139,
     "metadata": {},
     "output_type": "execute_result"
    }
   ],
   "source": [
    "df.isna().sum()"
   ]
  },
  {
   "cell_type": "code",
   "execution_count": 140,
   "metadata": {},
   "outputs": [],
   "source": [
    "df1=df.drop('region',axis=1)"
   ]
  },
  {
   "cell_type": "code",
   "execution_count": 141,
   "metadata": {},
   "outputs": [],
   "source": [
    "#Encoding String Values to Numeric values\n",
    "\n",
    "df1 = pd.get_dummies(df1,columns=['department','gender','recruitment_channel'],drop_first = True)"
   ]
  },
  {
   "cell_type": "code",
   "execution_count": 142,
   "metadata": {
    "scrolled": true
   },
   "outputs": [
    {
     "data": {
      "text/html": [
       "<div>\n",
       "<style scoped>\n",
       "    .dataframe tbody tr th:only-of-type {\n",
       "        vertical-align: middle;\n",
       "    }\n",
       "\n",
       "    .dataframe tbody tr th {\n",
       "        vertical-align: top;\n",
       "    }\n",
       "\n",
       "    .dataframe thead th {\n",
       "        text-align: right;\n",
       "    }\n",
       "</style>\n",
       "<table border=\"1\" class=\"dataframe\">\n",
       "  <thead>\n",
       "    <tr style=\"text-align: right;\">\n",
       "      <th></th>\n",
       "      <th>education</th>\n",
       "      <th>no_of_trainings</th>\n",
       "      <th>age</th>\n",
       "      <th>previous_year_rating</th>\n",
       "      <th>length_of_service</th>\n",
       "      <th>KPIs_met &gt;80%</th>\n",
       "      <th>awards_won?</th>\n",
       "      <th>avg_training_score</th>\n",
       "      <th>is_promoted</th>\n",
       "      <th>data</th>\n",
       "      <th>department_Operations</th>\n",
       "      <th>department_Others</th>\n",
       "      <th>department_Procurement</th>\n",
       "      <th>department_Sales &amp; Marketing</th>\n",
       "      <th>department_Technology</th>\n",
       "      <th>gender_m</th>\n",
       "      <th>recruitment_channel_referred</th>\n",
       "      <th>recruitment_channel_sourcing</th>\n",
       "    </tr>\n",
       "  </thead>\n",
       "  <tbody>\n",
       "    <tr>\n",
       "      <td>0</td>\n",
       "      <td>3</td>\n",
       "      <td>1</td>\n",
       "      <td>35</td>\n",
       "      <td>5.0</td>\n",
       "      <td>8</td>\n",
       "      <td>1</td>\n",
       "      <td>0</td>\n",
       "      <td>49</td>\n",
       "      <td>0.0</td>\n",
       "      <td>train</td>\n",
       "      <td>0</td>\n",
       "      <td>0</td>\n",
       "      <td>0</td>\n",
       "      <td>1</td>\n",
       "      <td>0</td>\n",
       "      <td>0</td>\n",
       "      <td>0</td>\n",
       "      <td>1</td>\n",
       "    </tr>\n",
       "    <tr>\n",
       "      <td>1</td>\n",
       "      <td>2</td>\n",
       "      <td>1</td>\n",
       "      <td>30</td>\n",
       "      <td>5.0</td>\n",
       "      <td>4</td>\n",
       "      <td>0</td>\n",
       "      <td>0</td>\n",
       "      <td>60</td>\n",
       "      <td>0.0</td>\n",
       "      <td>train</td>\n",
       "      <td>1</td>\n",
       "      <td>0</td>\n",
       "      <td>0</td>\n",
       "      <td>0</td>\n",
       "      <td>0</td>\n",
       "      <td>1</td>\n",
       "      <td>0</td>\n",
       "      <td>0</td>\n",
       "    </tr>\n",
       "    <tr>\n",
       "      <td>2</td>\n",
       "      <td>2</td>\n",
       "      <td>1</td>\n",
       "      <td>34</td>\n",
       "      <td>3.0</td>\n",
       "      <td>7</td>\n",
       "      <td>0</td>\n",
       "      <td>0</td>\n",
       "      <td>50</td>\n",
       "      <td>0.0</td>\n",
       "      <td>train</td>\n",
       "      <td>0</td>\n",
       "      <td>0</td>\n",
       "      <td>0</td>\n",
       "      <td>1</td>\n",
       "      <td>0</td>\n",
       "      <td>1</td>\n",
       "      <td>0</td>\n",
       "      <td>1</td>\n",
       "    </tr>\n",
       "    <tr>\n",
       "      <td>3</td>\n",
       "      <td>2</td>\n",
       "      <td>2</td>\n",
       "      <td>39</td>\n",
       "      <td>1.0</td>\n",
       "      <td>10</td>\n",
       "      <td>0</td>\n",
       "      <td>0</td>\n",
       "      <td>50</td>\n",
       "      <td>0.0</td>\n",
       "      <td>train</td>\n",
       "      <td>0</td>\n",
       "      <td>0</td>\n",
       "      <td>0</td>\n",
       "      <td>1</td>\n",
       "      <td>0</td>\n",
       "      <td>1</td>\n",
       "      <td>0</td>\n",
       "      <td>0</td>\n",
       "    </tr>\n",
       "    <tr>\n",
       "      <td>4</td>\n",
       "      <td>2</td>\n",
       "      <td>1</td>\n",
       "      <td>45</td>\n",
       "      <td>3.0</td>\n",
       "      <td>2</td>\n",
       "      <td>0</td>\n",
       "      <td>0</td>\n",
       "      <td>73</td>\n",
       "      <td>0.0</td>\n",
       "      <td>train</td>\n",
       "      <td>0</td>\n",
       "      <td>0</td>\n",
       "      <td>0</td>\n",
       "      <td>0</td>\n",
       "      <td>1</td>\n",
       "      <td>1</td>\n",
       "      <td>0</td>\n",
       "      <td>0</td>\n",
       "    </tr>\n",
       "  </tbody>\n",
       "</table>\n",
       "</div>"
      ],
      "text/plain": [
       "   education  no_of_trainings  age  previous_year_rating  length_of_service  \\\n",
       "0          3                1   35                   5.0                  8   \n",
       "1          2                1   30                   5.0                  4   \n",
       "2          2                1   34                   3.0                  7   \n",
       "3          2                2   39                   1.0                 10   \n",
       "4          2                1   45                   3.0                  2   \n",
       "\n",
       "   KPIs_met >80%  awards_won?  avg_training_score  is_promoted   data  \\\n",
       "0              1            0                  49          0.0  train   \n",
       "1              0            0                  60          0.0  train   \n",
       "2              0            0                  50          0.0  train   \n",
       "3              0            0                  50          0.0  train   \n",
       "4              0            0                  73          0.0  train   \n",
       "\n",
       "   department_Operations  department_Others  department_Procurement  \\\n",
       "0                      0                  0                       0   \n",
       "1                      1                  0                       0   \n",
       "2                      0                  0                       0   \n",
       "3                      0                  0                       0   \n",
       "4                      0                  0                       0   \n",
       "\n",
       "   department_Sales & Marketing  department_Technology  gender_m  \\\n",
       "0                             1                      0         0   \n",
       "1                             0                      0         1   \n",
       "2                             1                      0         1   \n",
       "3                             1                      0         1   \n",
       "4                             0                      1         1   \n",
       "\n",
       "   recruitment_channel_referred  recruitment_channel_sourcing  \n",
       "0                             0                             1  \n",
       "1                             0                             0  \n",
       "2                             0                             1  \n",
       "3                             0                             0  \n",
       "4                             0                             0  "
      ]
     },
     "execution_count": 142,
     "metadata": {},
     "output_type": "execute_result"
    }
   ],
   "source": [
    "df1.head()"
   ]
  },
  {
   "cell_type": "code",
   "execution_count": 143,
   "metadata": {},
   "outputs": [
    {
     "name": "stderr",
     "output_type": "stream",
     "text": [
      "C:\\ProgramData\\Anaconda3\\lib\\site-packages\\pandas\\core\\frame.py:4102: SettingWithCopyWarning: \n",
      "A value is trying to be set on a copy of a slice from a DataFrame\n",
      "\n",
      "See the caveats in the documentation: http://pandas.pydata.org/pandas-docs/stable/user_guide/indexing.html#returning-a-view-versus-a-copy\n",
      "  errors=errors,\n"
     ]
    }
   ],
   "source": [
    "#splitting the data back into train and test as it was already provided\n",
    "\n",
    "train = df1[df1['data']=='train']\n",
    "train.drop(['data'],axis=1,inplace=True)\n",
    "\n",
    "test = df1[df1['data']=='test']\n",
    "test.drop(['data'],axis=1,inplace=True)\n"
   ]
  },
  {
   "cell_type": "code",
   "execution_count": 144,
   "metadata": {
    "scrolled": true
   },
   "outputs": [
    {
     "name": "stdout",
     "output_type": "stream",
     "text": [
      "(54808, 17)\n",
      "(23490, 17)\n"
     ]
    }
   ],
   "source": [
    "print(train.shape)\n",
    "print(test.shape)"
   ]
  },
  {
   "cell_type": "code",
   "execution_count": 145,
   "metadata": {},
   "outputs": [],
   "source": [
    "X_train = train.drop(\"is_promoted\",axis = 1)\n",
    "y_train = train[\"is_promoted\"]"
   ]
  },
  {
   "cell_type": "code",
   "execution_count": 146,
   "metadata": {
    "scrolled": true
   },
   "outputs": [
    {
     "data": {
      "text/plain": [
       "0.0    91.482995\n",
       "1.0     8.517005\n",
       "Name: is_promoted, dtype: float64"
      ]
     },
     "execution_count": 146,
     "metadata": {},
     "output_type": "execute_result"
    }
   ],
   "source": [
    "y_train.value_counts(1)*100\n",
    "# There is huge data imbalance so we use smote"
   ]
  },
  {
   "cell_type": "code",
   "execution_count": 147,
   "metadata": {},
   "outputs": [],
   "source": [
    "X_test = test.drop(\"is_promoted\",axis = 1)\n",
    "y_test = test[\"is_promoted\"]"
   ]
  },
  {
   "cell_type": "markdown",
   "metadata": {},
   "source": [
    "#### Dealing with data imbalance\n",
    "\n",
    "SMOTE (Synthetic Minority Over-sampling Technique) Algorithm oversamples the minority instances and makes it equal to majority class. Both categories have equal amount of records. "
   ]
  },
  {
   "cell_type": "code",
   "execution_count": 148,
   "metadata": {},
   "outputs": [
    {
     "name": "stdout",
     "output_type": "stream",
     "text": [
      "Before OverSampling\n",
      "\n",
      "0.0    50140\n",
      "1.0     4668\n",
      "Name: is_promoted, dtype: int64\n",
      "\n",
      "After OverSampling\n",
      "\n",
      "1.0    50140\n",
      "0.0    50140\n",
      "Name: 0, dtype: int64\n"
     ]
    }
   ],
   "source": [
    "print(\"Before OverSampling\")\n",
    "print()\n",
    "print(y_train.value_counts())\n",
    "\n",
    "\n",
    "# Applying SMOTE\n",
    "from imblearn.over_sampling import SMOTE\n",
    "x_sample, y_sample = SMOTE().fit_sample(X_train, y_train.values.ravel())\n",
    "\n",
    "X_train_sm = pd.DataFrame(x_sample)\n",
    "y_train_sm = pd.DataFrame(y_sample)\n",
    "\n",
    "print()\n",
    "print(\"After OverSampling\")\n",
    "print()\n",
    "print(y_train_sm[0].value_counts())\n",
    "\n"
   ]
  },
  {
   "cell_type": "markdown",
   "metadata": {},
   "source": [
    "### Model building"
   ]
  },
  {
   "cell_type": "code",
   "execution_count": 160,
   "metadata": {},
   "outputs": [],
   "source": [
    "# standard scaling\n",
    "\n",
    "from sklearn.preprocessing import StandardScaler\n",
    "sc = StandardScaler()\n",
    "X_train_sm_std =pd.DataFrame(sc.fit_transform(X_train_sm),columns=X_train.columns)\n",
    "X_test_std  = pd.DataFrame(sc.transform(X_test),columns=X_test.columns)\n"
   ]
  },
  {
   "cell_type": "code",
   "execution_count": 150,
   "metadata": {},
   "outputs": [],
   "source": [
    "from sklearn.linear_model import LogisticRegression\n",
    "from sklearn.tree import DecisionTreeClassifier\n",
    "from sklearn.ensemble import RandomForestClassifier\n",
    "from sklearn.neighbors import KNeighborsClassifier\n",
    "from xgboost import XGBClassifier\n",
    "from sklearn.ensemble import GradientBoostingClassifier\n",
    "\n",
    "\n",
    "models = []\n",
    "\n",
    "models.append(('LR', LogisticRegression()))\n",
    "models.append(('CART', DecisionTreeClassifier()))\n",
    "models.append(('RFC', RandomForestClassifier()))\n",
    "models.append(('KNN', KNeighborsClassifier()))\n",
    "models.append(('XGBoost', XGBClassifier()))\n",
    "models.append(('GBoost',GradientBoostingClassifier()))\n"
   ]
  },
  {
   "cell_type": "code",
   "execution_count": 41,
   "metadata": {
    "scrolled": true
   },
   "outputs": [
    {
     "data": {
      "text/plain": [
       "{'LR': '0.771627 (0.033609)',\n",
       " 'CART': '0.926591 (0.029209)',\n",
       " 'RFC': '0.941578 (0.033808)',\n",
       " 'KNN': '0.885898 (0.027675)',\n",
       " 'XGBoost': '0.902782 (0.035402)',\n",
       " 'GBoost': '0.864928 (0.031298)'}"
      ]
     },
     "execution_count": 41,
     "metadata": {},
     "output_type": "execute_result"
    }
   ],
   "source": [
    "from sklearn.model_selection import cross_val_score\n",
    "\n",
    "cv_scores={}\n",
    "for name, model in models:\n",
    "    cv_results = cross_val_score(model, X_train_sm_std, y_train_sm, cv=5, scoring='f1',n_jobs=-1)\n",
    "    cv_scores[name]=\"%f (%f)\" % (cv_results.mean(), cv_results.std())\n",
    "cv_scores"
   ]
  },
  {
   "cell_type": "code",
   "execution_count": 151,
   "metadata": {},
   "outputs": [],
   "source": [
    "# Since the best scores is obtained in random forest model we use random forest to make the predictions\n",
    "RFC=RandomForestClassifier()\n",
    "RFC.fit(X_train_sm_std,y_sample)\n",
    "y_pred_rfc=RFC.predict(X_test_std)"
   ]
  },
  {
   "cell_type": "markdown",
   "metadata": {},
   "source": [
    "We can further do hyperparameter tuning for random forest to improve results."
   ]
  },
  {
   "cell_type": "code",
   "execution_count": 164,
   "metadata": {
    "scrolled": true
   },
   "outputs": [
    {
     "data": {
      "image/png": "[encoded data removed]",
      "text/plain": [
       "<Figure size 432x288 with 1 Axes>"
      ]
     },
     "metadata": {
      "needs_background": "light"
     },
     "output_type": "display_data"
    }
   ],
   "source": [
    "pd.DataFrame(RFC.feature_importances_,index=X_train_sm_std.columns,columns=['Importance']).sort_values(by='Importance',ascending=True).plot(kind='barh')\n",
    "plt.show()"
   ]
  },
  {
   "cell_type": "markdown",
   "metadata": {},
   "source": [
    "It is very evedent that average training score plays an very important role in determining the promotion followed by previous year rating."
   ]
  },
  {
   "cell_type": "code",
   "execution_count": 152,
   "metadata": {},
   "outputs": [],
   "source": [
    "train_sol=pd.read_csv('test.csv')"
   ]
  },
  {
   "cell_type": "code",
   "execution_count": 153,
   "metadata": {},
   "outputs": [
    {
     "data": {
      "text/html": [
       "<div>\n",
       "<style scoped>\n",
       "    .dataframe tbody tr th:only-of-type {\n",
       "        vertical-align: middle;\n",
       "    }\n",
       "\n",
       "    .dataframe tbody tr th {\n",
       "        vertical-align: top;\n",
       "    }\n",
       "\n",
       "    .dataframe thead th {\n",
       "        text-align: right;\n",
       "    }\n",
       "</style>\n",
       "<table border=\"1\" class=\"dataframe\">\n",
       "  <thead>\n",
       "    <tr style=\"text-align: right;\">\n",
       "      <th></th>\n",
       "      <th>employee_id</th>\n",
       "      <th>is_promoted</th>\n",
       "    </tr>\n",
       "  </thead>\n",
       "  <tbody>\n",
       "    <tr>\n",
       "      <td>0</td>\n",
       "      <td>8724</td>\n",
       "      <td>0.0</td>\n",
       "    </tr>\n",
       "    <tr>\n",
       "      <td>1</td>\n",
       "      <td>74430</td>\n",
       "      <td>0.0</td>\n",
       "    </tr>\n",
       "    <tr>\n",
       "      <td>2</td>\n",
       "      <td>72255</td>\n",
       "      <td>0.0</td>\n",
       "    </tr>\n",
       "    <tr>\n",
       "      <td>3</td>\n",
       "      <td>38562</td>\n",
       "      <td>0.0</td>\n",
       "    </tr>\n",
       "    <tr>\n",
       "      <td>4</td>\n",
       "      <td>64486</td>\n",
       "      <td>0.0</td>\n",
       "    </tr>\n",
       "  </tbody>\n",
       "</table>\n",
       "</div>"
      ],
      "text/plain": [
       "   employee_id  is_promoted\n",
       "0         8724          0.0\n",
       "1        74430          0.0\n",
       "2        72255          0.0\n",
       "3        38562          0.0\n",
       "4        64486          0.0"
      ]
     },
     "execution_count": 153,
     "metadata": {},
     "output_type": "execute_result"
    }
   ],
   "source": [
    "solution=pd.DataFrame()\n",
    "solution['employee_id']=train_sol['employee_id']\n",
    "solution['is_promoted']=y_pred_rfc\n",
    "solution.head()"
   ]
  },
  {
   "cell_type": "markdown",
   "metadata": {},
   "source": [
    "solution['is_promoted']=solution['is_promoted'].astype('int64')"
   ]
  },
  {
   "cell_type": "markdown",
   "metadata": {},
   "source": [
    "solution.to_csv('RFC.csv',index=False)"
   ]
  },
  {
   "cell_type": "code",
   "execution_count": null,
   "metadata": {},
   "outputs": [],
   "source": []
  }
 ],
 "metadata": {
  "kernelspec": {
   "display_name": "Python 3",
   "language": "python",
   "name": "python3"
  },
  "language_info": {
   "codemirror_mode": {
    "name": "ipython",
    "version": 3
   },
   "file_extension": ".py",
   "mimetype": "text/x-python",
   "name": "python",
   "nbconvert_exporter": "python",
   "pygments_lexer": "ipython3",
   "version": "3.7.4"
  }
 },
 "nbformat": 4,
 "nbformat_minor": 2
}
